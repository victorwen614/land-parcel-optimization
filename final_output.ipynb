{
 "cells": [
  {
   "cell_type": "markdown",
   "metadata": {},
   "source": [
    "## 📊 Final Output Summary\n",
    "\n",
    "| Metric                    | Value                               |\n",
    "|---------------------------|--------------------------------------|\n",
    "| 🧩 **Selected Parcel IDs** | `[0, 2, 4, 6, 9, 11, 13, 15, 18, 20, 22, 26, 29, 31, 33, 35, 37, 40, 42, 44, 46, 48, 51, 53, 55, 57, 59, 60, 62, 64, 66, 68, 71, 73, 75, 77, 79, 80, 82, 84, 86, 88, 91, 93, 95, 97, 99]` |\n",
    "| 🌱 **Total Carbon Storage** | 2841.40                             |\n",
    "| 💰 **Total Cost**           | 139,711.67 *(Budget limit = 140,963.08)* |\n",
    "| 🌍 **Total Area Selected**  | 3846.71 km² of 8054.03 km² *(≈ 47.8%)*  |\n",
    "| ✅ **Optimization Status**  | Optimal                             |\n"
   ]
  }
 ],
 "metadata": {
  "language_info": {
   "name": "python"
  }
 },
 "nbformat": 4,
 "nbformat_minor": 2
}
